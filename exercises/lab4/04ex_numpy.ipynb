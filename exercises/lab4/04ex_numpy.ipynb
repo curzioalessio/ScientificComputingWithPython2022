{
 "cells": [
  {
   "cell_type": "markdown",
   "metadata": {},
   "source": [
    "1\\. **Reductions**\n",
    "\n",
    "Find the total mean, and the mean for each row and column of the following matrix:\n",
    "\n",
    "```python\n",
    "m = np.arange(12).reshape((3,4))\n",
    "```"
   ]
  },
  {
   "cell_type": "code",
   "execution_count": 11,
   "metadata": {},
   "outputs": [
    {
     "name": "stdout",
     "output_type": "stream",
     "text": [
      "Matrix: \n",
      "[[ 0  1  2  3]\n",
      " [ 4  5  6  7]\n",
      " [ 8  9 10 11]]\n",
      "\n",
      "Total mean: 5.5\n",
      "\n",
      "Mean of each row: [1.5 5.5 9.5]\n",
      "\n",
      "Mean of each column: [4. 5. 6. 7.]\n"
     ]
    }
   ],
   "source": [
    "import numpy as np\n",
    "\n",
    "m = np.arange(12).reshape((3,4))\n",
    "\n",
    "tot_mean = m.mean()\n",
    "\n",
    "row_mean = m.mean(1)\n",
    "column_mean = m.mean(0)\n",
    "\n",
    "print(f'Matrix: \\n{m}')\n",
    "print(f\"\\nTotal mean: {m.mean()}\")\n",
    "\n",
    "print(f\"\\nMean of each row: {row_mean}\")\n",
    "print(f\"\\nMean of each column: {column_mean}\")"
   ]
  },
  {
   "cell_type": "markdown",
   "metadata": {},
   "source": [
    "2\\. **Outer product**\n",
    "\n",
    "Find the outer product of the following vectors:\n",
    "\n",
    "```python\n",
    "u = np.array([1, 3, 5, 7])\n",
    "v = np.array([2, 4, 6, 8])\n",
    "```\n",
    "\n",
    "Use different methods to do this:\n",
    "\n",
    "   1. Using the function `outer` in numpy\n",
    "   2. Using a nested `for` loop or a list comprehension\n",
    "   3. Using numpy broadcasting operations"
   ]
  },
  {
   "cell_type": "code",
   "execution_count": 13,
   "metadata": {},
   "outputs": [
    {
     "name": "stdout",
     "output_type": "stream",
     "text": [
      "Outer product with outer function:\n",
      "[[ 2  4  6  8]\n",
      " [ 6 12 18 24]\n",
      " [10 20 30 40]\n",
      " [14 28 42 56]]\n",
      "\n",
      "Outer product with nested for loop:\n",
      "[[ 2.  4.  6.  8.]\n",
      " [ 6. 12. 18. 24.]\n",
      " [10. 20. 30. 40.]\n",
      " [14. 28. 42. 56.]]\n",
      "\n",
      "Outer product with numpy broadcasting operations:\n",
      "[[ 2.  4.  6.  8.]\n",
      " [ 6. 12. 18. 24.]\n",
      " [10. 20. 30. 40.]\n",
      " [14. 28. 42. 56.]]\n"
     ]
    }
   ],
   "source": [
    "u = np.array([1, 3, 5, 7])\n",
    "v = np.array([2, 4, 6, 8])\n",
    "\n",
    "result = np.outer(u,v)\n",
    "print(f\"Outer product with outer function:\\n{result}\")\n",
    "\n",
    "result1 = np.empty([4,4])\n",
    "\n",
    "for i in range (u.size):\n",
    "    for j in range (v.size):\n",
    "        result1[i,j] = u[i]*v[j]\n",
    "        \n",
    "print(f\"\\nOuter product with nested for loop:\\n{result1}\")\n",
    "\n",
    "result2 = np.empty([4,4])\n",
    "for i in range (u.size):\n",
    "    result2[i] = u[i]*v\n",
    "    \n",
    "print(f\"\\nOuter product with numpy broadcasting operations:\\n{result2}\")"
   ]
  },
  {
   "cell_type": "markdown",
   "metadata": {},
   "source": [
    "3\\. **Matrix masking**\n",
    "\n",
    "Create a 10 by 6 matrix of float random numbers, distributed between 0 and 3 according to a flat distribution.\n",
    "\n",
    "After creating the matrix, set all entries $< 0.3$ to zero using a mask."
   ]
  },
  {
   "cell_type": "code",
   "execution_count": 14,
   "metadata": {},
   "outputs": [
    {
     "name": "stdout",
     "output_type": "stream",
     "text": [
      "Original Matrix:\n",
      " [[1.07118267 1.14415689 1.91994814 1.31743822 2.31203763 2.8016696 ]\n",
      " [0.16155508 1.71737885 2.65832076 2.45205983 2.89647586 0.35807394]\n",
      " [2.22147933 1.2071397  0.86013363 1.18991305 1.30374612 0.92301865]\n",
      " [2.02050025 1.02659467 0.65370811 0.90176598 0.70663152 1.38024977]\n",
      " [1.52462588 2.7315711  0.23894257 1.0992285  2.81636796 2.42646857]\n",
      " [0.74097483 0.32292979 1.74760337 1.7961854  1.28986549 2.31495414]\n",
      " [2.22199106 1.52825625 1.21775374 2.23126037 1.97812658 0.95494887]\n",
      " [0.79830356 1.08098161 1.94966423 2.1331089  2.69563656 0.33015275]\n",
      " [1.98456039 0.81574544 1.63090798 1.0073339  2.63697524 2.30886901]\n",
      " [2.68605949 2.11832459 0.89842354 1.47096873 2.56869576 0.00751358]]\n",
      "\n",
      "Matrix with all entries < 0.3 set to zero:\n",
      "[[1.07118267 1.14415689 1.91994814 1.31743822 2.31203763 2.8016696 ]\n",
      " [0.         1.71737885 2.65832076 2.45205983 2.89647586 0.35807394]\n",
      " [2.22147933 1.2071397  0.86013363 1.18991305 1.30374612 0.92301865]\n",
      " [2.02050025 1.02659467 0.65370811 0.90176598 0.70663152 1.38024977]\n",
      " [1.52462588 2.7315711  0.         1.0992285  2.81636796 2.42646857]\n",
      " [0.74097483 0.32292979 1.74760337 1.7961854  1.28986549 2.31495414]\n",
      " [2.22199106 1.52825625 1.21775374 2.23126037 1.97812658 0.95494887]\n",
      " [0.79830356 1.08098161 1.94966423 2.1331089  2.69563656 0.33015275]\n",
      " [1.98456039 0.81574544 1.63090798 1.0073339  2.63697524 2.30886901]\n",
      " [2.68605949 2.11832459 0.89842354 1.47096873 2.56869576 0.        ]]\n"
     ]
    }
   ],
   "source": [
    "m_result = np.random.uniform(0,3,[10,6])\n",
    "print(f\"Original Matrix:\\n {m_result}\")\n",
    "\n",
    "mask = (m_result < 0.3)\n",
    "m_result[mask] = 0\n",
    "print(f\"\\nMatrix with all entries < 0.3 set to zero:\\n{m_result}\")"
   ]
  },
  {
   "cell_type": "markdown",
   "metadata": {},
   "source": [
    "4\\. **Trigonometric functions**\n",
    "\n",
    "Use `np.linspace` to create an array of 100 numbers between $0$ and $2\\pi$ (inclusive).\n",
    "\n",
    "  * Extract every 10th element using the slice notation\n",
    "  * Reverse the array using the slice notation\n",
    "  * Extract elements where the absolute difference between the `sin` and `cos` functions evaluated for that element is $< 0.1$\n",
    "  * **Optional**: make a plot showing the sin and cos functions and indicate where they are close"
   ]
  },
  {
   "cell_type": "code",
   "execution_count": 19,
   "metadata": {},
   "outputs": [
    {
     "name": "stdout",
     "output_type": "stream",
     "text": [
      "Original array of 100 numbers between 0 and 3.141592653589793:\n",
      "[0.         0.06346652 0.12693304 0.19039955 0.25386607 0.31733259\n",
      " 0.38079911 0.44426563 0.50773215 0.57119866 0.63466518 0.6981317\n",
      " 0.76159822 0.82506474 0.88853126 0.95199777 1.01546429 1.07893081\n",
      " 1.14239733 1.20586385 1.26933037 1.33279688 1.3962634  1.45972992\n",
      " 1.52319644 1.58666296 1.65012947 1.71359599 1.77706251 1.84052903\n",
      " 1.90399555 1.96746207 2.03092858 2.0943951  2.15786162 2.22132814\n",
      " 2.28479466 2.34826118 2.41172769 2.47519421 2.53866073 2.60212725\n",
      " 2.66559377 2.72906028 2.7925268  2.85599332 2.91945984 2.98292636\n",
      " 3.04639288 3.10985939 3.17332591 3.23679243 3.30025895 3.36372547\n",
      " 3.42719199 3.4906585  3.55412502 3.61759154 3.68105806 3.74452458\n",
      " 3.8079911  3.87145761 3.93492413 3.99839065 4.06185717 4.12532369\n",
      " 4.1887902  4.25225672 4.31572324 4.37918976 4.44265628 4.5061228\n",
      " 4.56958931 4.63305583 4.69652235 4.75998887 4.82345539 4.88692191\n",
      " 4.95038842 5.01385494 5.07732146 5.14078798 5.2042545  5.26772102\n",
      " 5.33118753 5.39465405 5.45812057 5.52158709 5.58505361 5.64852012\n",
      " 5.71198664 5.77545316 5.83891968 5.9023862  5.96585272 6.02931923\n",
      " 6.09278575 6.15625227 6.21971879 6.28318531]\n",
      "\n",
      "Extract every 10th element: \n",
      "[0.         0.63466518 1.26933037 1.90399555 2.53866073 3.17332591\n",
      " 3.8079911  4.44265628 5.07732146 5.71198664]\n",
      "\n",
      "Reverse the array: \n",
      "[6.28318531 6.21971879 6.15625227 6.09278575 6.02931923 5.96585272\n",
      " 5.9023862  5.83891968 5.77545316 5.71198664 5.64852012 5.58505361\n",
      " 5.52158709 5.45812057 5.39465405 5.33118753 5.26772102 5.2042545\n",
      " 5.14078798 5.07732146 5.01385494 4.95038842 4.88692191 4.82345539\n",
      " 4.75998887 4.69652235 4.63305583 4.56958931 4.5061228  4.44265628\n",
      " 4.37918976 4.31572324 4.25225672 4.1887902  4.12532369 4.06185717\n",
      " 3.99839065 3.93492413 3.87145761 3.8079911  3.74452458 3.68105806\n",
      " 3.61759154 3.55412502 3.4906585  3.42719199 3.36372547 3.30025895\n",
      " 3.23679243 3.17332591 3.10985939 3.04639288 2.98292636 2.91945984\n",
      " 2.85599332 2.7925268  2.72906028 2.66559377 2.60212725 2.53866073\n",
      " 2.47519421 2.41172769 2.34826118 2.28479466 2.22132814 2.15786162\n",
      " 2.0943951  2.03092858 1.96746207 1.90399555 1.84052903 1.77706251\n",
      " 1.71359599 1.65012947 1.58666296 1.52319644 1.45972992 1.3962634\n",
      " 1.33279688 1.26933037 1.20586385 1.14239733 1.07893081 1.01546429\n",
      " 0.95199777 0.88853126 0.82506474 0.76159822 0.6981317  0.63466518\n",
      " 0.57119866 0.50773215 0.44426563 0.38079911 0.31733259 0.25386607\n",
      " 0.19039955 0.12693304 0.06346652 0.        ]\n",
      "\n",
      "Extraction of elements abs(sin(element)-cos(element) < 0.1:\n",
      "[0.76159822 0.82506474 3.87145761 3.93492413]\n"
     ]
    }
   ],
   "source": [
    "from math import pi,sin,cos\n",
    "array_lin = np.linspace(0, 2*pi, num=100)\n",
    "print(f\"Original array of 100 numbers between 0 and {pi}:\\n{array_lin}\")\n",
    "\n",
    "slice_a = array_lin[0:100:10]\n",
    "print(f\"\\nExtract every 10th element: \\n{slice_a}\")\n",
    "\n",
    "rev_a = array_lin[::-1]\n",
    "print(f\"\\nReverse the array: \\n{rev_a}\")\n",
    "\n",
    "mask = (abs(np.sin(array_lin)-np.cos(array_lin))<0.1)\n",
    "result = array_lin[mask]\n",
    "print(f\"\\nExtraction of elements abs(sin(element)-cos(element)) < 0.1:\\n{result}\")"
   ]
  },
  {
   "cell_type": "markdown",
   "metadata": {},
   "source": [
    "5\\. **Matrices**\n",
    "\n",
    "Create a matrix that shows the 10 by 10 multiplication table.\n",
    "\n",
    " * Find the trace of the matrix\n",
    " * Extract the anti-diagonal matrix (this should be ```array([10, 18, 24, 28, 30, 30, 28, 24, 18, 10])```)\n",
    " * Extract the diagonal offset by 1 upwards (this should be ```array([ 2,  6, 12, 20, 30, 42, 56, 72, 90])```)"
   ]
  },
  {
   "cell_type": "code",
   "execution_count": 36,
   "metadata": {},
   "outputs": [
    {
     "name": "stdout",
     "output_type": "stream",
     "text": [
      "Matrix of the 10 by 10 multiplication table: \n",
      "[[  1.   2.   3.   4.   5.   6.   7.   8.   9.  10.]\n",
      " [  2.   4.   6.   8.  10.  12.  14.  16.  18.  20.]\n",
      " [  3.   6.   9.  12.  15.  18.  21.  24.  27.  30.]\n",
      " [  4.   8.  12.  16.  20.  24.  28.  32.  36.  40.]\n",
      " [  5.  10.  15.  20.  25.  30.  35.  40.  45.  50.]\n",
      " [  6.  12.  18.  24.  30.  36.  42.  48.  54.  60.]\n",
      " [  7.  14.  21.  28.  35.  42.  49.  56.  63.  70.]\n",
      " [  8.  16.  24.  32.  40.  48.  56.  64.  72.  80.]\n",
      " [  9.  18.  27.  36.  45.  54.  63.  72.  81.  90.]\n",
      " [ 10.  20.  30.  40.  50.  60.  70.  80.  90. 100.]]\n",
      "\n",
      "Trace of the matrix:\n",
      " 385.0\n",
      "\n",
      "Anti-diagonal matrix:\n",
      " [10. 18. 24. 28. 30. 30. 28. 24. 18. 10.]\n",
      "\n",
      "Diagonal offset by 1 upwards:\n",
      " [ 2.  6. 12. 20. 30. 42. 56. 72. 90.]\n"
     ]
    }
   ],
   "source": [
    "matrix_multi = np.zeros([10,10])\n",
    "\n",
    "for i in range(len(matrix_multi[0])):\n",
    "    for j in range(len(matrix_multi[1])):\n",
    "        matrix_multi[i,j] = (i+1)*(j+1)\n",
    "print(f\"Matrix of the 10 by 10 multiplication table: \\n{matrix_multi}\")\n",
    "\n",
    "matrix_trace = matrix_multi.trace()\n",
    "print(f\"\\nTrace of the matrix:\\n {matrix_trace}\")\n",
    "\n",
    "matrix_anti_diag = np.fliplr(matrix_multi).diagonal()\n",
    "print(f\"\\nAnti-diagonal matrix:\\n {matrix_anti_diag}\")\n",
    "\n",
    "\n",
    "print(f\"\\nDiagonal offset by 1 upwards:\\n {matrix_multi.diagonal(1)}\")"
   ]
  },
  {
   "cell_type": "markdown",
   "metadata": {},
   "source": [
    "6\\. **Broadcasting**\n",
    "\n",
    "Use broadcasting to create a grid of distances.\n",
    "\n",
    "Route 66 crosses the following cities in the US: Chicago, Springfield, Saint-Louis, Tulsa, Oklahoma City, Amarillo, Santa Fe, Albuquerque, Flagstaff, Los Angeles.\n",
    "\n",
    "The corresponding positions in miles are: 0, 198, 303, 736, 871, 1175, 1475, 1544, 1913, 2448\n",
    "\n",
    "  * Build a 2D grid of distances among each city along Route 66\n",
    "  * Convert the distances in km"
   ]
  },
  {
   "cell_type": "code",
   "execution_count": null,
   "metadata": {},
   "outputs": [],
   "source": []
  },
  {
   "cell_type": "markdown",
   "metadata": {},
   "source": [
    "7\\. **Prime numbers sieve**\n",
    "\n",
    "Compute the prime numbers in the 0-N (start with N=99) range with a sieve (mask).\n",
    "\n",
    "  * Constract a shape (N,) boolean array, which is the mask\n",
    "  * Identify the multiples of each number starting from 2 and set accordingly the corresponding mask element\n",
    "  * Apply the mask to obtain an array of ordered prime numbers\n",
    "  * Check the performances (with `timeit`); how does it scale with N?\n",
    "  * Implement the optimization suggested in the [sieve of Eratosthenes](https://en.wikipedia.org/wiki/Sieve_of_Eratosthenes)"
   ]
  },
  {
   "cell_type": "code",
   "execution_count": null,
   "metadata": {},
   "outputs": [],
   "source": []
  },
  {
   "cell_type": "markdown",
   "metadata": {},
   "source": [
    "8\\. **Diffusion using random walk**\n",
    "\n",
    "Consider a simple random walk process: at each step in time, a walker jumps right or left (+1 or -1) with equal probability. The goal is to find the typical distance from the origin of many random walkers after a given amount of time.\n",
    "\n",
    "*Hint*: create a 2D array where each row represents a walker, and each column represents a time step.\n",
    "\n",
    "  * Take 1000 walkers and let them walk for 200 steps\n",
    "  * Use `randint` to create a 2D array of size $walkers \\times steps$ with values -1 or 1\n",
    "  * Calculate the walking distances for each walker (e.g. by summing the elements in each row)\n",
    "  * Take the square of the previously-obtained array (element-wise)\n",
    "  * Compute the mean of the squared distances at each step (i.e. the mean along the columns)\n",
    "  * **Optional**: plot the average distances ($\\sqrt(distance^2)$) as a function of time (step)"
   ]
  },
  {
   "cell_type": "code",
   "execution_count": null,
   "metadata": {},
   "outputs": [],
   "source": []
  }
 ],
 "metadata": {
  "kernelspec": {
   "display_name": "Python 3.9.13 ('base')",
   "language": "python",
   "name": "python3"
  },
  "language_info": {
   "codemirror_mode": {
    "name": "ipython",
    "version": 3
   },
   "file_extension": ".py",
   "mimetype": "text/x-python",
   "name": "python",
   "nbconvert_exporter": "python",
   "pygments_lexer": "ipython3",
   "version": "3.9.13"
  },
  "vscode": {
   "interpreter": {
    "hash": "8ed070cc296e767ce1e5199b70d97c76432cc9d29e3925cbc2ffc656a2ffee65"
   }
  }
 },
 "nbformat": 4,
 "nbformat_minor": 4
}
